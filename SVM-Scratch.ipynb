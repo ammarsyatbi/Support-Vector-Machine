{
 "cells": [
  {
   "cell_type": "code",
   "execution_count": 1,
   "metadata": {
    "collapsed": false
   },
   "outputs": [
    {
     "data": {
      "text/html": [
       "<div>\n",
       "<table border=\"1\" class=\"dataframe\">\n",
       "  <thead>\n",
       "    <tr style=\"text-align: right;\">\n",
       "      <th></th>\n",
       "      <th>Id</th>\n",
       "      <th>SepalLengthCm</th>\n",
       "      <th>SepalWidthCm</th>\n",
       "      <th>PetalLengthCm</th>\n",
       "      <th>PetalWidthCm</th>\n",
       "      <th>Species</th>\n",
       "    </tr>\n",
       "  </thead>\n",
       "  <tbody>\n",
       "    <tr>\n",
       "      <th>0</th>\n",
       "      <td>1</td>\n",
       "      <td>5.1</td>\n",
       "      <td>3.5</td>\n",
       "      <td>1.4</td>\n",
       "      <td>0.2</td>\n",
       "      <td>Iris-setosa</td>\n",
       "    </tr>\n",
       "    <tr>\n",
       "      <th>1</th>\n",
       "      <td>2</td>\n",
       "      <td>4.9</td>\n",
       "      <td>3.0</td>\n",
       "      <td>1.4</td>\n",
       "      <td>0.2</td>\n",
       "      <td>Iris-setosa</td>\n",
       "    </tr>\n",
       "    <tr>\n",
       "      <th>2</th>\n",
       "      <td>3</td>\n",
       "      <td>4.7</td>\n",
       "      <td>3.2</td>\n",
       "      <td>1.3</td>\n",
       "      <td>0.2</td>\n",
       "      <td>Iris-setosa</td>\n",
       "    </tr>\n",
       "    <tr>\n",
       "      <th>3</th>\n",
       "      <td>4</td>\n",
       "      <td>4.6</td>\n",
       "      <td>3.1</td>\n",
       "      <td>1.5</td>\n",
       "      <td>0.2</td>\n",
       "      <td>Iris-setosa</td>\n",
       "    </tr>\n",
       "    <tr>\n",
       "      <th>4</th>\n",
       "      <td>5</td>\n",
       "      <td>5.0</td>\n",
       "      <td>3.6</td>\n",
       "      <td>1.4</td>\n",
       "      <td>0.2</td>\n",
       "      <td>Iris-setosa</td>\n",
       "    </tr>\n",
       "  </tbody>\n",
       "</table>\n",
       "</div>"
      ],
      "text/plain": [
       "   Id  SepalLengthCm  SepalWidthCm  PetalLengthCm  PetalWidthCm      Species\n",
       "0   1            5.1           3.5            1.4           0.2  Iris-setosa\n",
       "1   2            4.9           3.0            1.4           0.2  Iris-setosa\n",
       "2   3            4.7           3.2            1.3           0.2  Iris-setosa\n",
       "3   4            4.6           3.1            1.5           0.2  Iris-setosa\n",
       "4   5            5.0           3.6            1.4           0.2  Iris-setosa"
      ]
     },
     "execution_count": 1,
     "metadata": {},
     "output_type": "execute_result"
    }
   ],
   "source": [
    "import matplotlib.pyplot as plt\n",
    "from matplotlib import style\n",
    "import pandas as pd\n",
    "import numpy as np\n",
    "style.use('ggplot')\n",
    "\n",
    "data = pd.read_csv('./Iris-two-label.csv')\n",
    "data.head()"
   ]
  },
  {
   "cell_type": "code",
   "execution_count": 2,
   "metadata": {
    "collapsed": false
   },
   "outputs": [
    {
     "name": "stderr",
     "output_type": "stream",
     "text": [
      "C:\\Users\\JIN\\Anaconda3\\lib\\site-packages\\numpy\\core\\numeric.py:301: FutureWarning: in the future, full(100, -1) will return an array of dtype('int32')\n",
      "  format(shape, fill_value, array(fill_value).dtype), FutureWarning)\n"
     ]
    }
   ],
   "source": [
    "# preparing data\n",
    "x1 = data['SepalLengthCm'].values\n",
    "x2 = data['PetalLengthCm'].values\n",
    "y = data['Species'].values\n",
    "\n",
    "#X,Y and bias term\n",
    "# bias = np.negative(np.ones(len(x1)))\n",
    "bias = np.full(len(x1),-1)\n",
    "X = np.array(list(zip(x1,x2)))\n",
    "# print(X)\n",
    "\n",
    "#Nominal to numeric\n",
    "df = pd.DataFrame(data=y, dtype='category', columns=['label'])\n",
    "Y = df['label'].cat.codes\n",
    "Y = np.array(Y)\n",
    "Y[Y == 0 ] = -1"
   ]
  },
  {
   "cell_type": "code",
   "execution_count": 3,
   "metadata": {
    "collapsed": true
   },
   "outputs": [],
   "source": [
    "class Support_Vector_Machine:\n",
    "    def __init__(self,  train_data, label, visualization=True):\n",
    "        self.data_plot = train_data\n",
    "        self.data = train_data\n",
    "        self.label = label\n",
    "        self.instances = len(self.data)\n",
    "        \n",
    "        self.visualization = visualization\n",
    "        self.colors = {1:'r' , -1:'b'}\n",
    "        if self.visualization:\n",
    "            self.fig = plt.figure()\n",
    "            self.ax = self.fig.add_subplot(1,1,1)\n",
    "            \n",
    "#   fit\n",
    "    def train(self):\n",
    "        # { ||w||: [w,b]} | basically its a magnitude of w\n",
    "        opt_dict = {}\n",
    "        \n",
    "        \n",
    "        \n",
    "        transforms = [[1,1],\n",
    "                     [-1,1],\n",
    "                     [-1,-1],\n",
    "                     [1,-1]]\n",
    "        \n",
    "        #basically just merge X and Y to find max and min feature value\n",
    "        all_data = []\n",
    "#         for yi in self.data:\n",
    "#             for featureset in self.data[yi]:\n",
    "#                 for feature in featureset:\n",
    "#                     all_data.append(feature)\n",
    "        \n",
    "        for points in self.data:\n",
    "            for val in points:\n",
    "                all_data.append(val)\n",
    "        \n",
    "        \n",
    "        self.max_feature_value = max(all_data)\n",
    "        self.min_feature_value = min(all_data)\n",
    "        all_data = None\n",
    "        \n",
    "        step_sizes = [self.max_feature_value * 0.1,\n",
    "                      self.max_feature_value * 0.01,\n",
    "                      # point of expense\n",
    "                      self.max_feature_value * 0.01]\n",
    "        \n",
    "        #extremely expensive\n",
    "        b_range_multiple = 5\n",
    "        \n",
    "        b_multiple = 5\n",
    "        \n",
    "        latest_optimum = self.max_feature_value * 10\n",
    "        \n",
    "        for step in step_sizes:\n",
    "            w = np.array([latest_optimum,latest_optimum])\n",
    "            \n",
    "            # convex can detect when it is optimized\n",
    "            optimized = False\n",
    "            while not optimized:\n",
    "                for b in np.arange(-1*(self.max_feature_value*b_range_multiple), \n",
    "                                   self.max_feature_value*b_range_multiple, \n",
    "                                   step*b_multiple):\n",
    "                    \n",
    "                    for transformation in transforms:\n",
    "                        w_t = w * transformation\n",
    "                        found_option = True\n",
    "                        # weakest link in the SVM Fundamentally\n",
    "                        # SMO attempts to fix this a bit\n",
    "                        # constraint : yi(wi.w+b) > = 1\n",
    "                        \n",
    "                        for i in range(0, self.instances):\n",
    "                            yi = self.label[i]\n",
    "                            xi = self.data[i]\n",
    "                            if not yi*(np.dot(xi,w_t)+b) >= 1:\n",
    "                                found_option = False\n",
    "                                break\n",
    "                        \n",
    "#                         for i in self.data:\n",
    "#                             for xi in self.data[i]:\n",
    "#                                 yi = i\n",
    "#                                 if not yi*(np.dot(xi,w_t)+b) >= 1:\n",
    "#                                     found_option = False\n",
    "#                                     break\n",
    "                                    \n",
    "                        if found_option:\n",
    "                            opt_dict[np.linalg.norm(w_t)] = [w_t,b]\n",
    "                \n",
    "                if w[0] < 0 :\n",
    "                    optimized = True\n",
    "                    print ('Optimized a step.')\n",
    "                else:\n",
    "                    w = w - step\n",
    "                    \n",
    "            #as if distance / magnitude\n",
    "            norms = sorted([n for n in opt_dict])\n",
    "            opt_choice = opt_dict[norms[0]]\n",
    "            #||w|| : [w,b]\n",
    "            self.w = opt_choice[0]\n",
    "            self.b = opt_choice[1]\n",
    "            latest_optimum = opt_choice[0][0] + step * 2\n",
    "            \n",
    "    def predict(self, X, Y):\n",
    "        # sign(x.w+b) | x is the unknown feature set\n",
    "        \n",
    "        feature = [X,Y]\n",
    "        classification = np.sign(np.dot(np.array(feature), self.w)+self.b)\n",
    "        if classification !=0 and self.visualization:\n",
    "            #self.ax.scatter(feature[0], feature[1], s=50, marker='*', c=self.colors[classification])\n",
    "            self.ax.scatter(feature[0], feature[1], s=50, marker='*', c='#f39c12')\n",
    "        \n",
    "        return classification\n",
    "    \n",
    "    # VISUALIZATION\n",
    "    def visualize(self):\n",
    "        [self.ax.scatter(self.data_plot[i,0],self.data_plot[i,1],s=20,color=self.colors[self.label[i]]) for i in range(0,self.instances)]\n",
    "        \n",
    "        \n",
    "        # hyperplane = x.w+b\n",
    "        # v = x.w+b | pos =1 , neg = -1 , dec = 0\n",
    "        def hyperplane(x,w,b,v):            \n",
    "            return (-w[0]*x-b+v) / w[1]\n",
    "        \n",
    "        # So the plotting wont go till the edge, its like padding\n",
    "        datarange = (self.min_feature_value*0.9 , self.max_feature_value*1.1)\n",
    "        hyp_x_min = datarange[0]\n",
    "        hyp_x_max = datarange[1]\n",
    "        \n",
    "        # (w.x+b) = 1\n",
    "        # positive suport vector hyperplane\n",
    "        psv1 = hyperplane(hyp_x_min , self.w, self.b, 1)\n",
    "        psv2 = hyperplane(hyp_x_max , self.w, self.b, 1)\n",
    "        self.ax.plot([hyp_x_min,hyp_x_max],[psv1,psv2])\n",
    "        \n",
    "        # (w.x+b) = -1\n",
    "        # positive suport vector hyperplane\n",
    "        nsv1 = hyperplane(hyp_x_min , self.w, self.b, -1)\n",
    "        nsv2 = hyperplane(hyp_x_max , self.w, self.b, -1)\n",
    "        self.ax.plot([hyp_x_min,hyp_x_max],[nsv1,nsv2])\n",
    "        \n",
    "        # (w.x+b) = 0\n",
    "        # positive suport vector hyperplane\n",
    "        db1 = hyperplane(hyp_x_min , self.w, self.b, 0)\n",
    "        db2 = hyperplane(hyp_x_max , self.w, self.b, 0)\n",
    "        self.ax.plot([hyp_x_min,hyp_x_max],[db1,db2])\n",
    "        \n",
    "        plt.xlabel('Sepal Length (cm)')\n",
    "        plt.ylabel('Petal Length (cm)')\n",
    "        plt.title('Support Vector Machine \\nIris Prediction')\n",
    "        plt.show()\n",
    "    "
   ]
  },
  {
   "cell_type": "code",
   "execution_count": 4,
   "metadata": {
    "collapsed": true
   },
   "outputs": [],
   "source": [
    "# data_dict = {-1:np.array([[1,7],\n",
    "#                      [2,8],\n",
    "#                      [3,8],]),\n",
    "             \n",
    "#              1:np.array([[5,1],\n",
    "#                          [6,-1],\n",
    "#                          [7,3],])}\n",
    "\n",
    "# tutorial data"
   ]
  },
  {
   "cell_type": "code",
   "execution_count": 5,
   "metadata": {
    "collapsed": false
   },
   "outputs": [
    {
     "name": "stdout",
     "output_type": "stream",
     "text": [
      "Optimized a step.\n",
      "Optimized a step.\n",
      "Optimized a step.\n"
     ]
    }
   ],
   "source": [
    "svm = Support_Vector_Machine(X,Y)\n",
    "svm.train()\n"
   ]
  },
  {
   "cell_type": "code",
   "execution_count": 6,
   "metadata": {
    "collapsed": false
   },
   "outputs": [
    {
     "data": {
      "text/plain": [
       "1.0"
      ]
     },
     "execution_count": 6,
     "metadata": {},
     "output_type": "execute_result"
    }
   ],
   "source": [
    "svm.predict(3,1)\n",
    "svm.predict(1,3)"
   ]
  },
  {
   "cell_type": "code",
   "execution_count": 7,
   "metadata": {
    "collapsed": false
   },
   "outputs": [
    {
     "data": {
      "image/png": "[encoded data removed]",
      "text/plain": [
       "<matplotlib.figure.Figure at 0x9537048>"
      ]
     },
     "metadata": {},
     "output_type": "display_data"
    }
   ],
   "source": [
    "svm.visualize()\n"
   ]
  },
  {
   "cell_type": "code",
   "execution_count": null,
   "metadata": {
    "collapsed": true
   },
   "outputs": [],
   "source": []
  },
  {
   "cell_type": "code",
   "execution_count": null,
   "metadata": {
    "collapsed": true
   },
   "outputs": [],
   "source": []
  }
 ],
 "metadata": {
  "kernelspec": {
   "display_name": "Python 3",
   "language": "python",
   "name": "python3"
  },
  "language_info": {
   "codemirror_mode": {
    "name": "ipython",
    "version": 3
   },
   "file_extension": ".py",
   "mimetype": "text/x-python",
   "name": "python",
   "nbconvert_exporter": "python",
   "pygments_lexer": "ipython3",
   "version": "3.6.0"
  }
 },
 "nbformat": 4,
 "nbformat_minor": 2
}
