{
 "cells": [
  {
   "cell_type": "code",
   "execution_count": 1,
<<<<<<< HEAD
   "metadata": {
    "collapsed": false
   },
=======
   "metadata": {},
>>>>>>> d49247152fad239a5ba3be593255a76815cd044c
   "outputs": [
    {
     "data": {
      "text/html": [
       "<div>\n",
<<<<<<< HEAD
=======
       "<style>\n",
       "    .dataframe thead tr:only-child th {\n",
       "        text-align: right;\n",
       "    }\n",
       "\n",
       "    .dataframe thead th {\n",
       "        text-align: left;\n",
       "    }\n",
       "\n",
       "    .dataframe tbody tr th {\n",
       "        vertical-align: top;\n",
       "    }\n",
       "</style>\n",
>>>>>>> d49247152fad239a5ba3be593255a76815cd044c
       "<table border=\"1\" class=\"dataframe\">\n",
       "  <thead>\n",
       "    <tr style=\"text-align: right;\">\n",
       "      <th></th>\n",
       "      <th>Id</th>\n",
       "      <th>SepalLengthCm</th>\n",
       "      <th>SepalWidthCm</th>\n",
       "      <th>PetalLengthCm</th>\n",
       "      <th>PetalWidthCm</th>\n",
       "      <th>Species</th>\n",
       "    </tr>\n",
       "  </thead>\n",
       "  <tbody>\n",
       "    <tr>\n",
       "      <th>0</th>\n",
       "      <td>1</td>\n",
       "      <td>5.1</td>\n",
       "      <td>3.5</td>\n",
       "      <td>1.4</td>\n",
       "      <td>0.2</td>\n",
       "      <td>Iris-setosa</td>\n",
       "    </tr>\n",
       "    <tr>\n",
       "      <th>1</th>\n",
       "      <td>2</td>\n",
       "      <td>4.9</td>\n",
       "      <td>3.0</td>\n",
       "      <td>1.4</td>\n",
       "      <td>0.2</td>\n",
       "      <td>Iris-setosa</td>\n",
       "    </tr>\n",
       "    <tr>\n",
       "      <th>2</th>\n",
       "      <td>3</td>\n",
       "      <td>4.7</td>\n",
       "      <td>3.2</td>\n",
       "      <td>1.3</td>\n",
       "      <td>0.2</td>\n",
       "      <td>Iris-setosa</td>\n",
       "    </tr>\n",
       "    <tr>\n",
       "      <th>3</th>\n",
       "      <td>4</td>\n",
       "      <td>4.6</td>\n",
       "      <td>3.1</td>\n",
       "      <td>1.5</td>\n",
       "      <td>0.2</td>\n",
       "      <td>Iris-setosa</td>\n",
       "    </tr>\n",
       "    <tr>\n",
       "      <th>4</th>\n",
       "      <td>5</td>\n",
       "      <td>5.0</td>\n",
       "      <td>3.6</td>\n",
       "      <td>1.4</td>\n",
       "      <td>0.2</td>\n",
       "      <td>Iris-setosa</td>\n",
       "    </tr>\n",
       "  </tbody>\n",
       "</table>\n",
       "</div>"
      ],
      "text/plain": [
       "   Id  SepalLengthCm  SepalWidthCm  PetalLengthCm  PetalWidthCm      Species\n",
       "0   1            5.1           3.5            1.4           0.2  Iris-setosa\n",
       "1   2            4.9           3.0            1.4           0.2  Iris-setosa\n",
       "2   3            4.7           3.2            1.3           0.2  Iris-setosa\n",
       "3   4            4.6           3.1            1.5           0.2  Iris-setosa\n",
       "4   5            5.0           3.6            1.4           0.2  Iris-setosa"
      ]
     },
     "execution_count": 1,
     "metadata": {},
     "output_type": "execute_result"
    }
   ],
   "source": [
    "import matplotlib.pyplot as plt\n",
    "from matplotlib import style\n",
    "import pandas as pd\n",
    "import numpy as np\n",
    "style.use('ggplot')\n",
    "\n",
    "data = pd.read_csv('./Iris-two-label.csv')\n",
    "data.head()"
   ]
  },
  {
   "cell_type": "code",
   "execution_count": 2,
   "metadata": {
<<<<<<< HEAD
    "collapsed": false
   },
   "outputs": [
    {
     "name": "stderr",
     "output_type": "stream",
     "text": [
      "C:\\Users\\JIN\\Anaconda3\\lib\\site-packages\\numpy\\core\\numeric.py:301: FutureWarning: in the future, full(100, -1) will return an array of dtype('int32')\n",
      "  format(shape, fill_value, array(fill_value).dtype), FutureWarning)\n"
     ]
    }
   ],
=======
    "collapsed": true
   },
   "outputs": [],
>>>>>>> d49247152fad239a5ba3be593255a76815cd044c
   "source": [
    "# preparing data\n",
    "x1 = data['SepalLengthCm'].values\n",
    "x2 = data['PetalLengthCm'].values\n",
    "y = data['Species'].values\n",
    "\n",
    "#X,Y and bias term\n",
    "# bias = np.negative(np.ones(len(x1)))\n",
    "bias = np.full(len(x1),-1)\n",
    "X = np.array(list(zip(x1,x2)))\n",
    "# print(X)\n",
    "\n",
    "#Nominal to numeric\n",
    "df = pd.DataFrame(data=y, dtype='category', columns=['label'])\n",
    "Y = df['label'].cat.codes\n",
    "Y = np.array(Y)\n",
    "Y[Y == 0 ] = -1"
   ]
  },
  {
   "cell_type": "code",
<<<<<<< HEAD
   "execution_count": 3,
=======
   "execution_count": 43,
>>>>>>> d49247152fad239a5ba3be593255a76815cd044c
   "metadata": {
    "collapsed": true
   },
   "outputs": [],
   "source": [
    "class Support_Vector_Machine:\n",
    "    def __init__(self,  train_data, label, visualization=True):\n",
    "        self.data_plot = train_data\n",
    "        self.data = train_data\n",
    "        self.label = label\n",
    "        self.instances = len(self.data)\n",
    "        \n",
    "        self.visualization = visualization\n",
    "        self.colors = {1:'r' , -1:'b'}\n",
    "        if self.visualization:\n",
    "            self.fig = plt.figure()\n",
    "            self.ax = self.fig.add_subplot(1,1,1)\n",
    "            \n",
    "#   fit\n",
    "    def train(self):\n",
    "        # { ||w||: [w,b]} | basically its a magnitude of w\n",
    "        opt_dict = {}\n",
    "        \n",
    "        \n",
    "        \n",
    "        transforms = [[1,1],\n",
    "                     [-1,1],\n",
    "                     [-1,-1],\n",
    "                     [1,-1]]\n",
    "        \n",
    "        #basically just merge X and Y to find max and min feature value\n",
    "        all_data = []\n",
    "#         for yi in self.data:\n",
    "#             for featureset in self.data[yi]:\n",
    "#                 for feature in featureset:\n",
    "#                     all_data.append(feature)\n",
    "        \n",
    "        for points in self.data:\n",
    "            for val in points:\n",
    "                all_data.append(val)\n",
    "        \n",
    "        \n",
    "        self.max_feature_value = max(all_data)\n",
    "        self.min_feature_value = min(all_data)\n",
    "        all_data = None\n",
    "        \n",
    "        step_sizes = [self.max_feature_value * 0.1,\n",
    "                      self.max_feature_value * 0.01,\n",
    "                      # point of expense\n",
    "                      self.max_feature_value * 0.01]\n",
    "        \n",
    "        #extremely expensive\n",
    "        b_range_multiple = 5\n",
    "        \n",
    "        b_multiple = 5\n",
    "        \n",
    "        latest_optimum = self.max_feature_value * 10\n",
    "        \n",
    "        for step in step_sizes:\n",
    "            w = np.array([latest_optimum,latest_optimum])\n",
    "            \n",
    "            # convex can detect when it is optimized\n",
    "            optimized = False\n",
    "            while not optimized:\n",
    "                for b in np.arange(-1*(self.max_feature_value*b_range_multiple), \n",
    "                                   self.max_feature_value*b_range_multiple, \n",
    "                                   step*b_multiple):\n",
    "                    \n",
    "                    for transformation in transforms:\n",
    "                        w_t = w * transformation\n",
    "                        found_option = True\n",
    "                        # weakest link in the SVM Fundamentally\n",
    "                        # SMO attempts to fix this a bit\n",
    "                        # constraint : yi(wi.w+b) > = 1\n",
    "                        \n",
    "                        for i in range(0, self.instances):\n",
    "                            yi = self.label[i]\n",
    "                            xi = self.data[i]\n",
    "                            if not yi*(np.dot(xi,w_t)+b) >= 1:\n",
    "                                found_option = False\n",
    "                                break\n",
    "                        \n",
    "#                         for i in self.data:\n",
    "#                             for xi in self.data[i]:\n",
    "#                                 yi = i\n",
    "#                                 if not yi*(np.dot(xi,w_t)+b) >= 1:\n",
    "#                                     found_option = False\n",
    "#                                     break\n",
    "                                    \n",
    "                        if found_option:\n",
    "                            opt_dict[np.linalg.norm(w_t)] = [w_t,b]\n",
    "                \n",
    "                if w[0] < 0 :\n",
    "                    optimized = True\n",
    "                    print ('Optimized a step.')\n",
    "                else:\n",
    "                    w = w - step\n",
    "                    \n",
    "            #as if distance / magnitude\n",
    "            norms = sorted([n for n in opt_dict])\n",
    "            opt_choice = opt_dict[norms[0]]\n",
    "            #||w|| : [w,b]\n",
    "            self.w = opt_choice[0]\n",
    "            self.b = opt_choice[1]\n",
    "            latest_optimum = opt_choice[0][0] + step * 2\n",
    "            \n",
    "    def predict(self, X, Y):\n",
    "        # sign(x.w+b) | x is the unknown feature set\n",
    "        \n",
    "        feature = [X,Y]\n",
    "        classification = np.sign(np.dot(np.array(feature), self.w)+self.b)\n",
    "        if classification !=0 and self.visualization:\n",
<<<<<<< HEAD
    "#             self.ax.scatter(feature[0], feature[1], s=50, marker='*', c=self.colors[classification])\n",
    "            self.ax.scatter(feature[0], feature[1], s=50, marker='*', c='#f1c40f')\n",
=======
    "            self.ax.scatter(feature[0], feature[1], s=50, marker='*', c=self.colors[classification])\n",
    "            #self.ax.scatter(feature[0], feature[1], s=50, marker='*', c='y')\n",
>>>>>>> d49247152fad239a5ba3be593255a76815cd044c
    "        \n",
    "        return classification\n",
    "    \n",
    "    # VISUALIZATION\n",
    "    def visualize(self):\n",
<<<<<<< HEAD
    "        [self.ax.scatter(self.data_plot[i,0],self.data_plot[i,1],s=20,color=self.colors[self.label[i]]) for i in range(0,self.instances)]\n",
=======
    "        [self.ax.scatter(self.data_plot[i,0],self.data_plot[i,1],s=50,color=self.colors[self.label[i]]) for i in range(0,self.instances)]\n",
>>>>>>> d49247152fad239a5ba3be593255a76815cd044c
    "        \n",
    "        # hyperplane = x.w+b\n",
    "        # v = x.w+b | pos =1 , neg = -1 , dec = 0\n",
    "        def hyperplane(x,w,b,v):            \n",
    "            return (-w[0]*x-b+v) / w[1]\n",
    "        \n",
    "        # So the plotting wont go till the edge, its like padding\n",
    "        datarange = (self.min_feature_value*0.9 , self.max_feature_value*1.1)\n",
    "        hyp_x_min = datarange[0]\n",
    "        hyp_x_max = datarange[1]\n",
    "        \n",
    "        # (w.x+b) = 1\n",
    "        # positive suport vector hyperplane\n",
    "        psv1 = hyperplane(hyp_x_min , self.w, self.b, 1)\n",
    "        psv2 = hyperplane(hyp_x_max , self.w, self.b, 1)\n",
    "        self.ax.plot([hyp_x_min,hyp_x_max],[psv1,psv2])\n",
    "        \n",
    "        # (w.x+b) = -1\n",
    "        # positive suport vector hyperplane\n",
    "        nsv1 = hyperplane(hyp_x_min , self.w, self.b, -1)\n",
    "        nsv2 = hyperplane(hyp_x_max , self.w, self.b, -1)\n",
    "        self.ax.plot([hyp_x_min,hyp_x_max],[nsv1,nsv2])\n",
    "        \n",
    "        # (w.x+b) = 0\n",
    "        # positive suport vector hyperplane\n",
    "        db1 = hyperplane(hyp_x_min , self.w, self.b, 0)\n",
    "        db2 = hyperplane(hyp_x_max , self.w, self.b, 0)\n",
    "        self.ax.plot([hyp_x_min,hyp_x_max],[db1,db2])\n",
<<<<<<< HEAD
    "        \n",
    "        plt.title('Support Vector Machine \\nIris Prediction')\n",
    "        plt.xlabel('Sepal Length (cm)')\n",
    "        plt.ylabel('Petal Length (cm)')\n",
    "        plt.show()\n",
    "        print (self.w)\n",
=======
    "    \n",
    "        plt.show()\n",
>>>>>>> d49247152fad239a5ba3be593255a76815cd044c
    "    "
   ]
  },
  {
   "cell_type": "code",
<<<<<<< HEAD
   "execution_count": 4,
   "metadata": {
    "collapsed": true
   },
=======
   "execution_count": 44,
   "metadata": {},
>>>>>>> d49247152fad239a5ba3be593255a76815cd044c
   "outputs": [],
   "source": [
    "# data_dict = {-1:np.array([[1,7],\n",
    "#                      [2,8],\n",
    "#                      [3,8],]),\n",
    "             \n",
    "#              1:np.array([[5,1],\n",
    "#                          [6,-1],\n",
    "#                          [7,3],])}\n",
    "\n",
    "# tutorial data"
   ]
  },
  {
   "cell_type": "code",
<<<<<<< HEAD
   "execution_count": 5,
   "metadata": {
    "collapsed": false
   },
=======
   "execution_count": 52,
   "metadata": {},
>>>>>>> d49247152fad239a5ba3be593255a76815cd044c
   "outputs": [
    {
     "name": "stdout",
     "output_type": "stream",
     "text": [
      "Optimized a step.\n",
      "Optimized a step.\n",
      "Optimized a step.\n"
     ]
    }
   ],
   "source": [
    "svm = Support_Vector_Machine(X,Y)\n",
    "svm.train()\n"
   ]
  },
  {
   "cell_type": "code",
<<<<<<< HEAD
   "execution_count": 6,
   "metadata": {
    "collapsed": false
   },
=======
   "execution_count": 53,
   "metadata": {},
>>>>>>> d49247152fad239a5ba3be593255a76815cd044c
   "outputs": [
    {
     "data": {
      "text/plain": [
       "1.0"
      ]
     },
<<<<<<< HEAD
     "execution_count": 6,
=======
     "execution_count": 53,
>>>>>>> d49247152fad239a5ba3be593255a76815cd044c
     "metadata": {},
     "output_type": "execute_result"
    }
   ],
   "source": [
    "svm.predict(3,1)\n",
    "svm.predict(1,3)"
   ]
  },
  {
   "cell_type": "code",
<<<<<<< HEAD
   "execution_count": 7,
   "metadata": {
    "collapsed": false
   },
   "outputs": [
    {
     "data": {
      "image/png": "iVBORw0KGgoAAAANSUhEUgAAAYcAAAErCAYAAAA1wE/rAAAABHNCSVQICAgIfAhkiAAAAAlwSFlz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\nEEII4UWKgxBCCC//H/2EJPLNtlljAAAAAElFTkSuQmCC\n",
      "text/plain": [
       "<matplotlib.figure.Figure at 0x949af98>"
=======
   "execution_count": 54,
   "metadata": {},
   "outputs": [
    {
     "data": {
      "image/png": "iVBORw0KGgoAAAANSUhEUgAAAXYAAAD8CAYAAABjAo9vAAAABHNCSVQICAgIfAhkiAAAAAlwSFlz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\nIQLM/wCb1Udu2GrmrAAAAABJRU5ErkJggg==\n",
      "text/plain": [
       "<matplotlib.figure.Figure at 0x16894d0feb8>"
>>>>>>> d49247152fad239a5ba3be593255a76815cd044c
      ]
     },
     "metadata": {},
     "output_type": "display_data"
<<<<<<< HEAD
    },
    {
     "name": "stdout",
     "output_type": "stream",
     "text": [
      "[-4.06  4.06]\n"
     ]
=======
>>>>>>> d49247152fad239a5ba3be593255a76815cd044c
    }
   ],
   "source": [
    "svm.visualize()\n"
   ]
  },
  {
   "cell_type": "code",
   "execution_count": null,
   "metadata": {
    "collapsed": true
   },
   "outputs": [],
   "source": []
  },
  {
   "cell_type": "code",
   "execution_count": null,
   "metadata": {
    "collapsed": true
   },
   "outputs": [],
   "source": []
  }
 ],
 "metadata": {
  "kernelspec": {
   "display_name": "Python 3",
   "language": "python",
   "name": "python3"
  },
  "language_info": {
   "codemirror_mode": {
    "name": "ipython",
    "version": 3
   },
   "file_extension": ".py",
   "mimetype": "text/x-python",
   "name": "python",
   "nbconvert_exporter": "python",
   "pygments_lexer": "ipython3",
<<<<<<< HEAD
   "version": "3.6.0"
=======
   "version": "3.5.4"
>>>>>>> d49247152fad239a5ba3be593255a76815cd044c
  }
 },
 "nbformat": 4,
 "nbformat_minor": 2
}
